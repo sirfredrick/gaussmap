{
 "cells": [
  {
   "cell_type": "markdown",
   "id": "d2d94e7b",
   "metadata": {},
   "source": [
    "# Gauss Map Visualization\n",
    "\n",
    "This notebook walks through the process of generating a visualization of the Gauss map for an arbitrary parameterized surface in $\\mathbb{R}^3$. This code was created from knowledge gained from my Differential Geometry class that used *Differential Geometry of Curves & Surfaces* by Manfredo do Carmo as a textbook [[1]](#REFERENCES).\n",
    "\n",
    "A [Gauss Map](https://en.wikipedia.org/wiki/Gauss_Map) is a map from a surface in $\\mathbb{R}^n$ to $S^{n-1} \\subset \\mathbb{R}^n$ where $S^{n-1}$ is the unit [sphere](https://en.wikipedia.org/wiki/N-sphere) of dimension $n-1$ [embedded](https://en.wikipedia.org/wiki/Embedding) in $\\mathbb{R}^n$. This map sends points on the surface to points on the unit sphere corresponding to the unit vector normal to the surface at that point. This can be visualized as generating the normal vectors of the surface at various points and then shifting the \"tail\" of these vectors to the origin. That is exactly what this animation does."
   ]
  },
  {
   "cell_type": "markdown",
   "id": "9f0bcb83",
   "metadata": {},
   "source": [
    "## Libraries Used\n",
    "We start by importing the various libraries that we will use. [Manim](https://www.manim.community/) is a math animation library originally written by Grant Sanderson of [3Blue1Brown](https://www.3blue1brown.com/) with a fork now maintained by the community [[2]](#REFERENCES). It allows us to setup a scene of objects, animate them, and render the output to a video.\n",
    "\n",
    "Other important libraries used are [SymPy](https://www.sympy.org/) to calculate the partial derivatives and [vector product](https://en.wikipedia.org/wiki/Cross_product \"cross product\") used in the normal vector calculation, and [NumPy](https://numpy.org/) to numerically evaluate the normal vector at each point."
   ]
  },
  {
   "cell_type": "code",
   "execution_count": null,
   "id": "e1045dfa",
   "metadata": {},
   "outputs": [],
   "source": [
    "from manim import (ThreeDScene, Surface, ThreeDAxes, VGroup, Vector, FadeIn, FadeOut, ApplyMethod, DEGREES, ORIGIN)\n",
    "from sympy.abc import u, v\n",
    "import sympy as sym\n",
    "import numpy as np\n",
    "from IPython.display import display, Math"
   ]
  },
  {
   "cell_type": "markdown",
   "id": "f1a78783",
   "metadata": {},
   "source": [
    "## Typing\n",
    "\n",
    "Typing annotations are used throughout the code. Typing in Python is optional and code will still run correctly even when incorrect types are used. I have however run the code through a static type checker so the type annotations used should be correct. The various types are defined here. Since the animation is limited to $\\mathbb{R}^3$ then we define types using 3-tuples representing $x$, $y$, and $z$ coordinates. Additonally, we set the range value to a 2-tuple to represent the minimum and maximum values of the $u$ and $v$ coordinates."
   ]
  },
  {
   "cell_type": "code",
   "execution_count": null,
   "id": "9f63374a",
   "metadata": {},
   "outputs": [],
   "source": [
    "from typing import Tuple, Union\n",
    "import numpy.typing as npt\n",
    "\n",
    "Range = Tuple[float, float]\n",
    "\n",
    "Matrices = Tuple[sym.Matrix, sym.Matrix, sym.Matrix]\n",
    "\n",
    "# Expression representing x, y, and z coordinates\n",
    "ParamExpr = Union[Tuple[sym.Expr, sym.Expr, sym.Expr], sym.Matrix]\n",
    "\n",
    "# Vectorized function representing x, y, and z coordinates\n",
    "ParamVectorize = Tuple[np.vectorize, np.vectorize, np.vectorize]"
   ]
  },
  {
   "cell_type": "markdown",
   "id": "22c09e48",
   "metadata": {},
   "source": [
    "## Classes"
   ]
  },
  {
   "cell_type": "markdown",
   "id": "4b2fd0bc",
   "metadata": {},
   "source": [
    "### Surfaces\n",
    "This manim object is a representation of the parameterized surface. The constructor takes in a vectorized parameterization of the surface that will be created elsewhere."
   ]
  },
  {
   "cell_type": "code",
   "execution_count": null,
   "id": "612d1c95",
   "metadata": {},
   "outputs": [],
   "source": [
    "class OriginalSurface(Surface):\n",
    "    \"\"\"A manim surface of the parameterization for the manimation.\"\"\"\n",
    "    def __init__(self, X: ParamVectorize, u_range: Range, v_range: Range,\n",
    "                 r_max: int = 8, **kwargs) -> None:\n",
    "        \"\"\"Generates the parameterized surface for the manimation.\n",
    "\n",
    "            Args:\n",
    "                X: A tuple of vectorized functions that describes the\n",
    "                    parameterized surface.\n",
    "                u_range: A tuple containing the starting and ending u\n",
    "                    coordinates.\n",
    "                v_range: A tuple containing the staring and ending v\n",
    "                    coordinates.\n",
    "        \"\"\"\n",
    "        self.__r_max = r_max\n",
    "        self.__X = X\n",
    "\n",
    "        super().__init__(self.func, u_range=u_range, v_range=v_range, **kwargs)\n",
    "\n",
    "    def func(self, u_i: float, v_i: float) -> npt.NDArray[np.float64]:\n",
    "        \"\"\"Evaluates the function at u and v to generate the surface.\"\"\"\n",
    "        X = _evaluate(self.__X, u_i, v_i)\n",
    "\n",
    "        # limit graphs to sphere with radius r_max\n",
    "        # a spherical boundary looks better than a cubic one\n",
    "        r = np.linalg.norm(X)\n",
    "        if r > self.__r_max:\n",
    "            X = np.divide(np.multiply(self.__r_max, X),  r)\n",
    "        return X"
   ]
  },
  {
   "cell_type": "markdown",
   "id": "8e0d4bd1",
   "metadata": {},
   "source": [
    "This manim object represents the subset of the unit sphere that the surface is sent to via the Gauss map. The unit sphere is the codomain of the Gauss map while this subset is its range. The vectorized parameterization of $\\mathbf{x}$, and $\\mathbf{n}$ of the unit normal vectors are generated elsewhere."
   ]
  },
  {
   "cell_type": "code",
   "execution_count": null,
   "id": "ebc814e6",
   "metadata": {},
   "outputs": [],
   "source": [
    "class GaussMapSurface(Surface):\n",
    "    \"\"\"A manim surface of the Gauss map for the manimation.\"\"\"\n",
    "    def __init__(self, X: ParamVectorize, N: ParamVectorize, u_range: Range,\n",
    "                 v_range: Range, **kwargs) -> None:\n",
    "        \"\"\"Generates the Gauss map surface for the manimation.\n",
    "\n",
    "            Args:\n",
    "                X: A tuple of vectorized functions that describes the orignal\n",
    "                    surface.\n",
    "                N: A tuple of vectorized functions that describes the normal\n",
    "                    vectors of the original surface.\n",
    "                u_range: A tuple containing the starting and ending u\n",
    "                    coordinates.\n",
    "                v_range: A tuple containing the starting and ending v\n",
    "                    coordinates.\n",
    "        \"\"\"\n",
    "        self.__N = N\n",
    "\n",
    "        super().__init__(self.func, u_range=u_range, v_range=v_range, **kwargs)\n",
    "\n",
    "    def func(self, u_i: float, v_i: float) -> npt.NDArray[np.float64]:\n",
    "        \"\"\"Evaluates the normal vectors at u and v to generate the surface.\"\"\"\n",
    "        N = _evaluate(self.__N, u_i, v_i)\n",
    "        return _normalize(N)"
   ]
  },
  {
   "cell_type": "markdown",
   "id": "edc02232",
   "metadata": {},
   "source": [
    "### Vector Field\n",
    "This manim object is a group of vector objects that represent the unit normal vectors at each point on the surface. The vectorized functions $\\mathbf{x}$ of the parameterization, and $\\mathbf{n}$ of the unit normal vectors are generated elsewhere."
   ]
  },
  {
   "cell_type": "code",
   "execution_count": null,
   "id": "0de47a5d",
   "metadata": {},
   "outputs": [],
   "source": [
    "class VectorField(VGroup):\n",
    "    \"\"\"The normal vectors as a group of manim vectors for the manimation.\"\"\"\n",
    "    def __init__(self, X: ParamVectorize, N: ParamVectorize, u_range: Range,\n",
    "                 v_range: Range, r_max: int = 8, amount: int = 20,\n",
    "                 **kwargs) -> None:\n",
    "        \"\"\"Generates the normal vector field for the manimation.\n",
    "\n",
    "            Args:\n",
    "\n",
    "                X: A tuple of vectorized functions that describes the original\n",
    "                    surface.\n",
    "                N: A tuple of vectorized functions that describes the normal\n",
    "                    vectors of the original surface.\n",
    "                u_range: A tuple containing the starting and ending u\n",
    "                    coordinates.\n",
    "                v_range: A tuple containing the starting and ending v\n",
    "                    coordinates.\n",
    "                r_max: The maximum radius from the center where vectors are\n",
    "                    generated.\n",
    "                amount: The number of vectors to generate. They will be\n",
    "                    dispersed evenly throughout the surface.\n",
    "        \"\"\"\n",
    "        super().__init__(**kwargs)\n",
    "        self.__r_max = r_max\n",
    "\n",
    "        U = np.linspace(u_range[0], u_range[1], amount)\n",
    "        V = np.linspace(v_range[0], v_range[1], amount)\n",
    "\n",
    "        for u_i in U:\n",
    "            for v_i in V:\n",
    "                X_i = _evaluate(X, u_i, v_i)\n",
    "                N_i = _evaluate(N, u_i, v_i)\n",
    "\n",
    "                # ignore vectors that start outside a sphere of radius r_max\n",
    "                r = np.linalg.norm(X_i)\n",
    "                if r < self.__r_max:\n",
    "                    self.add(self.__create_vector(X_i, N_i))\n",
    "\n",
    "    @staticmethod\n",
    "    def __create_vector(pos: npt.NDArray[np.float64],\n",
    "                        N: npt.NDArray[np.float64]) -> Vector:\n",
    "        \"\"\"Evaluates the function at u and v to generate the vector field.\"\"\"\n",
    "        N = _normalize(N)\n",
    "        \n",
    "        # move vector away from the surface a bit so it does not clip through\n",
    "        pos = pos + 0.1 * N\n",
    "\n",
    "        # shade_in_3d prevents vectors and their tips from being visible when\n",
    "        # they are behind 3d objects.\n",
    "        vector = Vector(shade_in_3d=True, direction=N).shift(pos)\n",
    "        vector.get_tip().set_shade_in_3d()\n",
    "        return vector"
   ]
  },
  {
   "cell_type": "markdown",
   "id": "403b1e3a",
   "metadata": {},
   "source": [
    "### Scene\n",
    "\n",
    "This scene is where all the objects are constructed and the animations are generated. Manim calls the construct function when rendering the scene so you can think of the construct method as the main method of this script."
   ]
  },
  {
   "cell_type": "code",
   "execution_count": null,
   "id": "22702a70",
   "metadata": {},
   "outputs": [],
   "source": [
    "class GaussMap(ThreeDScene):\n",
    "    \"\"\"An animated scene that demonstrates the Gauss map of a surface.\"\"\"\n",
    "    def construct(self) -> None:\n",
    "        \"\"\"Creates the objects in the scene and plays the animation.\"\"\"\n",
    "        axes = ThreeDAxes()\n",
    "        X_expr, u_range, v_range = _get_func()\n",
    "\n",
    "        N_expr, X_u, X_v = _gauss(X_expr)\n",
    "        display(Math(''.join(('\\\\mathbf{x} = ', sym.latex(X_expr)))))\n",
    "        display(Math(''.join(('\\\\mathbf{x}_u = ', sym.latex((X_u[0], X_u[1],\n",
    "                                                            X_u[2]))))))\n",
    "        display(Math(''.join(('\\\\mathbf{x}_v = ', sym.latex((X_v[0], X_v[1],\n",
    "                                                            X_v[2]))))))\n",
    "        display(Math(''.join(('N = ', sym.latex((N_expr[0],\n",
    "                                                 N_expr[1],\n",
    "                                                 N_expr[2]))))))\n",
    "\n",
    "        X = _sym_to_np(X_expr)\n",
    "        N = _sym_to_np(N_expr)\n",
    "\n",
    "        original_surface = OriginalSurface(X, u_range, v_range)\n",
    "        gauss_map = GaussMapSurface(X, N, u_range, v_range)\n",
    "        vector_field = VectorField(X, N, u_range, v_range)\n",
    "\n",
    "        self.begin_ambient_camera_rotation(rate=0.1)\n",
    "        self.set_camera_orientation(phi=45*DEGREES, theta=30*DEGREES)\n",
    "        self.add(original_surface)\n",
    "        self.wait(5)\n",
    "        self.play(FadeIn(vector_field))\n",
    "        self.wait(5)\n",
    "        self.play(FadeOut(original_surface))\n",
    "        self.remove(original_surface)\n",
    "        animations = []\n",
    "        for vector in vector_field:\n",
    "            vec_mid = np.array(vector.get_vector()) / 2\n",
    "            animations.append(ApplyMethod(vector.move_to, ORIGIN + vec_mid,\n",
    "                                          run_time=0.2))\n",
    "        self.play(*animations, run_time=3.0)\n",
    "        self.wait(2)\n",
    "        self.play(FadeIn(gauss_map))\n",
    "        self.play(FadeOut(vector_field))\n",
    "        self.remove(vector_field)\n",
    "        self.wait(5)   "
   ]
  },
  {
   "cell_type": "markdown",
   "id": "86ec20ea",
   "metadata": {},
   "source": [
    "## Functions\n",
    "\n",
    "This helper function is used in the various classes to evaluate a NumPy vectorized function at the parameterized $u$, $v$ coordinates."
   ]
  },
  {
   "cell_type": "code",
   "execution_count": null,
   "id": "f492975e",
   "metadata": {},
   "outputs": [],
   "source": [
    "def _evaluate(V: ParamVectorize, u_i: float,\n",
    "              v_i: float) -> npt.NDArray[np.float64]:\n",
    "    \"\"\"Evaluates the vectorized function at the given coordinates.\n",
    "\n",
    "        Args:\n",
    "            V: A tuple of vectorized functions to be evaluated.\n",
    "            u_i: The u coordinate to evaluate at.\n",
    "            v_i: The v coordinate to evaluate at.\n",
    "\n",
    "        Returns:\n",
    "            A numpy array of the evaluated values in x, y, and z coordinates.\n",
    "    \"\"\"\n",
    "    x, y, z = V\n",
    "    return np.array([x(u_i, v_i), y(u_i, v_i), z(u_i, v_i)])"
   ]
  },
  {
   "cell_type": "markdown",
   "id": "5fa4dc2a",
   "metadata": {},
   "source": [
    "This function converts expressions using $u$ and $v$ into NumPy vectorized functions that can be evaluated at specific coordinates."
   ]
  },
  {
   "cell_type": "code",
   "execution_count": null,
   "id": "76b0af33",
   "metadata": {},
   "outputs": [],
   "source": [
    "def _sym_to_np(X: ParamExpr) -> ParamVectorize:\n",
    "    \"\"\"Converts sympy expressions to numpy expressions.\n",
    "\n",
    "    Args:\n",
    "        X: A sequence of 3 sympy expressions to convert.\n",
    "\n",
    "    Returns:\n",
    "        A numpy array of numpy vectorized equations.\n",
    "    \"\"\"\n",
    "    # iter needed for sympy matrix type checking\n",
    "    x, y, z = iter(X)\n",
    "    x_np = sym.lambdify([u, v], x, 'numpy')\n",
    "    y_np = sym.lambdify([u, v], y, 'numpy')\n",
    "    z_np = sym.lambdify([u, v], z, 'numpy')\n",
    "    x_vec = np.vectorize(x_np)\n",
    "    y_vec = np.vectorize(y_np)\n",
    "    z_vec = np.vectorize(z_np)\n",
    "    return x_vec, y_vec, z_vec   "
   ]
  },
  {
   "cell_type": "code",
   "execution_count": null,
   "id": "d560ebc9",
   "metadata": {},
   "outputs": [],
   "source": [
    "def _normalize(X: npt.NDArray[np.float64]) -> npt.NDArray[np.float64]:\n",
    "    norm = np.linalg.norm(X)\n",
    "    if norm == 0:\n",
    "        norm = np.float64(1.0)\n",
    "    return np.divide(X, norm)"
   ]
  },
  {
   "cell_type": "markdown",
   "id": "30f442f6",
   "metadata": {},
   "source": [
    "This function is where the important math is done.\n",
    "\n",
    "Let $U \\subset \\mathbb{R}^2$ be open and let $S \\subset \\mathbb{R}^3$ be a surface. $S$ is called a regular surface if for each $p \\in S$ there exists a neighborhood $V$ in $\\mathbb{R}^3$ and a map $\\mathbf{x}: U \\to V \\cap S$ such that $\\mathbf{x}$ is [differentiable](https://en.wikipedia.org/wiki/Differentiable_function), $\\mathbf{x}$ is a [homeomorphism](https://en.wikipedia.org/wiki/Homeomorphism), and for each $(u, v) \\in U$, the [differential](https://en.wikipedia.org/wiki/Pushforward_(differential) \"pushforward\") $d\\mathbf{x}_{(u, v)}: \\mathbb{R}^2 \\to \\mathbb{R}^3$ is [one-to-one](https://en.wikipedia.org/wiki/One-to-one_function \"injective\"). The map $\\mathbf{x}$ is called a parameterization. See [[1, Def. 2-2.1, pp. 54-55]](#REFERENCES).\n",
    "\n",
    "Let $V \\subset S$ be an open set in $S$ and $N: V \\to \\mathbb{R}^3$ such that for each point $q \\in V$, $N(q)$ is a unit normal vector at $q$. $N$ is a differentiable field of unit normal vectors on $V$ if this map is differentiable.\n",
    "\n",
    "A regular surface $S \\subset \\mathbb{R}^3$ is orientable if there exists a differentiable field of unit normal vectors $N: S \\to \\mathbb{R}^3$ on the whole surface, $S$. See [[1, pp. 137-138]](#REFERENCES).\n",
    "\n",
    "This means that for any two parameterizations, $\\mathbf{x}: U \\to S$ and $\\mathbf{\\tilde{x}}: \\tilde{U} \\to S$ and for all $(u, v) \\in U$ and $(\\tilde{u}, \\tilde{v}) \\in \\tilde{U}$ that coincide then both\n",
    "\n",
    "$$N(u, v) =\\frac{\\mathbf{x}_u(u, v) \\times \\mathbf{x}_v(u, v)}{||\\mathbf{x}_u(u, v) \\times \\mathbf{x}_v(u, v)||}$$\n",
    "\n",
    "$$N(\\tilde{u}, \\tilde{v}) =\\frac{\\mathbf{\\tilde{x}}_{\\tilde{u}}(\\tilde{u}, \\tilde{v}) \\times \\mathbf{x}_{\\tilde{v}}(\\tilde{u}, \\tilde{v})}{||\\mathbf{x}_{\\tilde{u}}(\\tilde{u}, \\tilde{v}) \\times \\mathbf{x}_{\\tilde{v}}(\\tilde{u}, \\tilde{v})||}$$\n",
    "\n",
    "agree.\n",
    "\n",
    "\n",
    "Let $S \\subset \\mathbb{R}^3$ be a orientable surface with orientation $N$. The map $N: S \\to \\mathbb{R}^3$ takes the values of $N$ to the unit sphere $S^2$. This map $N: S \\to S^2$ is called the Gauss map of $S$. See [[1, Def. 3-2.1, p. 138]](#REFERENCES)\n",
    "\n",
    "For our purposes we define our map as\n",
    "\n",
    "$$N =\\frac{\\mathbf{x}_u \\times \\mathbf{x}_v}{||\\mathbf{x}_u \\times \\mathbf{x}_v||}$$"
   ]
  },
  {
   "cell_type": "code",
   "execution_count": null,
   "id": "ddf7f407",
   "metadata": {},
   "outputs": [],
   "source": [
    "def _gauss(X: ParamExpr) -> Matrices:\n",
    "    \"\"\"Calculates the normal vector and partial derivatives of X.\n",
    "\n",
    "    Args:\n",
    "        X: A parametrized equation in terms of u and v where the\n",
    "            elements describe the x, y, and z coordinates in that order.\n",
    "\n",
    "    Returns:\n",
    "        A tuple (N, X_u, X_v) where N is the parameterized equation of the\n",
    "        normal vector in terms of u and v, X_u is the parameterized\n",
    "        equation of the paritial derivative of X with respect to u in terms\n",
    "        of u and v, and X_v is the parameterized equations of the partial\n",
    "        derivative of X with respect to v in terms of u and v.\n",
    "    \"\"\"\n",
    "    # iter needed for sympy Matrix type checking\n",
    "    x, y, z = iter(X)\n",
    "    x_u = sym.diff(x, u)\n",
    "    x_v = sym.diff(x, v)\n",
    "    y_u = sym.diff(y, u)\n",
    "    y_v = sym.diff(y, v)\n",
    "    z_u = sym.diff(z, u)\n",
    "    z_v = sym.diff(z, v)\n",
    "    X_u = sym.Matrix([x_u, y_u, z_u])\n",
    "    X_v = sym.Matrix([x_v, y_v, z_v])\n",
    "    N = X_u.cross(X_v)\n",
    "\n",
    "    return N, X_u, X_v"
   ]
  },
  {
   "cell_type": "markdown",
   "id": "404bfce6",
   "metadata": {},
   "source": [
    "This function converts strings into floats and SymPy expressions. **Note:** No input validation is done."
   ]
  },
  {
   "cell_type": "code",
   "execution_count": null,
   "id": "1bde4406",
   "metadata": {},
   "outputs": [],
   "source": [
    "def _get_func() -> Tuple[ParamExpr, Range, Range]:\n",
    "    u_range = (float(sym.sympify(u_min)), float(sym.sympify(u_max)))\n",
    "    v_range = (float(sym.sympify(v_min)), float(sym.sympify(v_max)))\n",
    "    X = (sym.sympify(x), sym.sympify(y), sym.sympify(z))\n",
    "    return X, u_range, v_range"
   ]
  },
  {
   "cell_type": "markdown",
   "id": "818c4a40",
   "metadata": {},
   "source": [
    "## Rendering\n",
    "\n",
    "We use cell magic `%%manim` to run the Manim command-line utility from the jupyter notebook. We pass in the scene name `GaussMap` to render it. We pass `-v WARNING` to remove unneccessary output and `-ql` to set the render quality to low so that it renders faster. Other options include `-qm` for medium, and `-qh` for high quality.\n",
    "\n",
    "Here we define the maximum and minimum values for the $u$ and $v$ coordinates and the parameterized functions in terms of $u$ and $v$. [$\\LaTeX$](https://www.latex-project.org/) of the partial derivative and normal vector output is shown as well as the rendered video. \n",
    "\n",
    "Please try your own functions some cool demos are found below."
   ]
  },
  {
   "cell_type": "markdown",
   "id": "ee159c73",
   "metadata": {},
   "source": [
    "### [Cone](https://mathworld.wolfram.com/Cone.html)"
   ]
  },
  {
   "cell_type": "code",
   "execution_count": null,
   "id": "38a57626",
   "metadata": {},
   "outputs": [],
   "source": [
    "%%manim -v WARNING -ql GaussMap\n",
    "\n",
    "# Change me!\n",
    "u_min = '0.01' # Remove singular point at (0, 0, 0)\n",
    "u_max = '2'\n",
    "v_min = '0'\n",
    "v_max = '2*pi'\n",
    "x = 'u*cos(v)'\n",
    "y = 'u*sin(v)'\n",
    "z = 'u'"
   ]
  },
  {
   "cell_type": "markdown",
   "id": "edc45851",
   "metadata": {},
   "source": [
    "### [One-Sheeted Hyperboloid](https://mathworld.wolfram.com/One-SheetedHyperboloid.html)"
   ]
  },
  {
   "cell_type": "code",
   "execution_count": null,
   "id": "5067da37",
   "metadata": {},
   "outputs": [],
   "source": [
    "%%manim -v WARNING -ql GaussMap\n",
    "\n",
    "# Change me!\n",
    "u_min = '-2*pi'\n",
    "u_max = '2*pi'\n",
    "v_min = '0'\n",
    "v_max = '2*pi'\n",
    "x = 'cosh(u)*cos(v)'\n",
    "y = 'cosh(u)*sin(v)'\n",
    "z = 'sinh(u)'"
   ]
  },
  {
   "cell_type": "markdown",
   "id": "5fc5729c",
   "metadata": {},
   "source": [
    "### [Catenoid](https://mathworld.wolfram.com/Catenoid.html)"
   ]
  },
  {
   "cell_type": "code",
   "execution_count": null,
   "id": "ec4e43c8",
   "metadata": {},
   "outputs": [],
   "source": [
    "%%manim -v WARNING -ql GaussMap\n",
    "\n",
    "# Change me!\n",
    "u_min = '-pi'\n",
    "u_max = 'pi'\n",
    "v_min = '-2'\n",
    "v_max = '2'\n",
    "x = '2*cosh((1/2)*v)*cos(u)'\n",
    "y = '2*cosh((1/2)*v)*sin(u)'\n",
    "z = 'v'"
   ]
  },
  {
   "cell_type": "markdown",
   "id": "20c03e18",
   "metadata": {},
   "source": [
    "### [Ring Torus](https://mathworld.wolfram.com/RingTorus.html)"
   ]
  },
  {
   "cell_type": "code",
   "execution_count": null,
   "id": "e5447f38",
   "metadata": {},
   "outputs": [],
   "source": [
    "%%manim -v WARNING -ql GaussMap\n",
    "\n",
    "# R = 3, r = 1\n",
    "\n",
    "# Change me!\n",
    "u_min = '0'\n",
    "u_max = '2*pi'\n",
    "v_min = '0'\n",
    "v_max = '2*pi'\n",
    "x = '(3 + 1*cos(u))*cos(v)'\n",
    "y = '(3 + 1*cos(u))*sin(v)'\n",
    "z = '1*sin(u)'"
   ]
  },
  {
   "cell_type": "markdown",
   "id": "7519a414",
   "metadata": {},
   "source": [
    "### [Paraboloid](https://mathworld.wolfram.com/Paraboloid.html)"
   ]
  },
  {
   "cell_type": "code",
   "execution_count": null,
   "id": "f769d50b",
   "metadata": {},
   "outputs": [],
   "source": [
    "%%manim -v WARNING -ql GaussMap\n",
    "\n",
    "# Change me!\n",
    "u_min = '0.001'\n",
    "u_max = '2'\n",
    "v_min = '0'\n",
    "v_max = '2*pi'\n",
    "x = 'u*cos(v)'\n",
    "y = 'u*sin(v)'\n",
    "z = 'u^2'"
   ]
  },
  {
   "cell_type": "markdown",
   "id": "472137e0",
   "metadata": {},
   "source": [
    "### [Hyperbolic Paraboloid](https://mathworld.wolfram.com/HyperbolicParaboloid.html)"
   ]
  },
  {
   "cell_type": "code",
   "execution_count": null,
   "id": "85efa407",
   "metadata": {},
   "outputs": [],
   "source": [
    "%%manim -v WARNING -ql GaussMap\n",
    "\n",
    "# Change me!\n",
    "u_min = '-2'\n",
    "u_max = '2'\n",
    "v_min = '-2'\n",
    "v_max = '2'\n",
    "x = 'u'\n",
    "y = 'v'\n",
    "z = 'v^2-u^2'"
   ]
  },
  {
   "cell_type": "markdown",
   "id": "f8a433ad",
   "metadata": {},
   "source": [
    "### [Monkey Saddle](https://mathworld.wolfram.com/MonkeySaddle.html)"
   ]
  },
  {
   "cell_type": "code",
   "execution_count": null,
   "id": "7feb08bb",
   "metadata": {},
   "outputs": [],
   "source": [
    "%%manim -v WARNING -ql GaussMap\n",
    "\n",
    "# Change me!\n",
    "u_min = '-3'\n",
    "u_max = '3'\n",
    "v_min = '-3'\n",
    "v_max = '3'\n",
    "x = 'u'\n",
    "y = 'v'\n",
    "z = 'u^3-3*v^2*u'"
   ]
  },
  {
   "cell_type": "markdown",
   "id": "fa1358d5",
   "metadata": {},
   "source": [
    "## REFERENCES\n",
    "\n",
    "[1] M. P. DO CARMO, *Differential Geometry of Curves and Surfaces*, 2nd ed., Dover, Mineola, NY, 2016.\n",
    "\n",
    "[2] MANIM COMMUNITY DEVELOPERS AND G. SANDERSON, *Manim software*, 2022, https://www.manim.community (accessed 2022/09/22). Version 0.16.0.post0."
   ]
  }
 ],
 "metadata": {
  "kernelspec": {
   "display_name": "Python 3 (ipykernel)",
   "language": "python",
   "name": "python3"
  },
  "language_info": {
   "codemirror_mode": {
    "name": "ipython",
    "version": 3
   },
   "file_extension": ".py",
   "mimetype": "text/x-python",
   "name": "python",
   "nbconvert_exporter": "python",
   "pygments_lexer": "ipython3",
   "version": "3.8.10"
  }
 },
 "nbformat": 4,
 "nbformat_minor": 5
}
